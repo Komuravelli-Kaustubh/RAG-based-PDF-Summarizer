{
 "cells": [
  {
   "cell_type": "markdown",
   "id": "ad9b4b85-9d17-468c-b244-73a1c5191e3e",
   "metadata": {},
   "source": [
    "# RAG application built on gemini "
   ]
  },
  {
   "cell_type": "code",
   "execution_count": 1,
   "id": "16b2002b",
   "metadata": {},
   "outputs": [
    {
     "name": "stdout",
     "output_type": "stream",
     "text": [
      "Defaulting to user installation because normal site-packages is not writeableNote: you may need to restart the kernel to use updated packages.\n",
      "\n",
      "Requirement already satisfied: langchain in c:\\users\\kaust\\appdata\\roaming\\python\\python310\\site-packages (0.2.16)\n",
      "Requirement already satisfied: langchain_community in c:\\users\\kaust\\appdata\\roaming\\python\\python310\\site-packages (0.2.16)\n",
      "Requirement already satisfied: langchain-google-genai in c:\\users\\kaust\\appdata\\roaming\\python\\python310\\site-packages (1.0.10)\n",
      "Requirement already satisfied: python-dotenv in c:\\users\\kaust\\appdata\\roaming\\python\\python310\\site-packages (1.0.0)\n",
      "Requirement already satisfied: streamlit in c:\\users\\kaust\\appdata\\roaming\\python\\python310\\site-packages (1.22.0)\n",
      "Requirement already satisfied: langchain_experimental in c:\\users\\kaust\\appdata\\roaming\\python\\python310\\site-packages (0.0.65)\n",
      "Requirement already satisfied: sentence-transformers in c:\\users\\kaust\\appdata\\roaming\\python\\python310\\site-packages (3.0.1)\n",
      "Requirement already satisfied: langchain_chroma in c:\\users\\kaust\\appdata\\roaming\\python\\python310\\site-packages (0.1.3)\n",
      "Requirement already satisfied: langchainhub in c:\\users\\kaust\\appdata\\roaming\\python\\python310\\site-packages (0.1.21)\n",
      "Requirement already satisfied: pypdf in c:\\users\\kaust\\appdata\\roaming\\python\\python310\\site-packages (4.3.1)\n",
      "Requirement already satisfied: rapidocr-onnxruntime in c:\\users\\kaust\\appdata\\roaming\\python\\python310\\site-packages (1.3.24)\n",
      "Requirement already satisfied: PyYAML>=5.3 in c:\\users\\kaust\\appdata\\roaming\\python\\python310\\site-packages (from langchain) (6.0.1)\n",
      "Requirement already satisfied: SQLAlchemy<3,>=1.4 in c:\\users\\kaust\\appdata\\roaming\\python\\python310\\site-packages (from langchain) (2.0.31)\n",
      "Requirement already satisfied: aiohttp<4.0.0,>=3.8.3 in c:\\users\\kaust\\appdata\\roaming\\python\\python310\\site-packages (from langchain) (3.8.4)\n",
      "Requirement already satisfied: async-timeout<5.0.0,>=4.0.0 in c:\\users\\kaust\\appdata\\roaming\\python\\python310\\site-packages (from langchain) (4.0.2)\n",
      "Requirement already satisfied: langchain-core<0.3.0,>=0.2.38 in c:\\users\\kaust\\appdata\\roaming\\python\\python310\\site-packages (from langchain) (0.2.38)\n",
      "Requirement already satisfied: langchain-text-splitters<0.3.0,>=0.2.0 in c:\\users\\kaust\\appdata\\roaming\\python\\python310\\site-packages (from langchain) (0.2.4)\n",
      "Requirement already satisfied: langsmith<0.2.0,>=0.1.17 in c:\\users\\kaust\\appdata\\roaming\\python\\python310\\site-packages (from langchain) (0.1.114)\n",
      "Requirement already satisfied: numpy<2,>=1 in c:\\users\\kaust\\appdata\\roaming\\python\\python310\\site-packages (from langchain) (1.23.1)\n",
      "Requirement already satisfied: pydantic<3,>=1 in c:\\users\\kaust\\appdata\\roaming\\python\\python310\\site-packages (from langchain) (2.7.4)\n",
      "Requirement already satisfied: requests<3,>=2 in c:\\users\\kaust\\appdata\\roaming\\python\\python310\\site-packages (from langchain) (2.31.0)\n",
      "Requirement already satisfied: tenacity!=8.4.0,<9.0.0,>=8.1.0 in c:\\users\\kaust\\appdata\\roaming\\python\\python310\\site-packages (from langchain) (8.3.0)\n",
      "Requirement already satisfied: dataclasses-json<0.7,>=0.5.7 in c:\\users\\kaust\\appdata\\roaming\\python\\python310\\site-packages (from langchain_community) (0.5.14)\n",
      "Requirement already satisfied: google-generativeai<0.8.0,>=0.7.0 in c:\\users\\kaust\\appdata\\roaming\\python\\python310\\site-packages (from langchain-google-genai) (0.7.2)\n",
      "Requirement already satisfied: altair<5,>=3.2.0 in c:\\users\\kaust\\appdata\\roaming\\python\\python310\\site-packages (from streamlit) (4.2.2)\n",
      "Requirement already satisfied: blinker>=1.0.0 in c:\\users\\kaust\\appdata\\roaming\\python\\python310\\site-packages (from streamlit) (1.6.2)\n",
      "Requirement already satisfied: cachetools>=4.0 in c:\\users\\kaust\\appdata\\roaming\\python\\python310\\site-packages (from streamlit) (5.3.1)\n",
      "Requirement already satisfied: click>=7.0 in c:\\users\\kaust\\appdata\\roaming\\python\\python310\\site-packages (from streamlit) (8.1.7)\n",
      "Requirement already satisfied: importlib-metadata>=1.4 in c:\\users\\kaust\\appdata\\roaming\\python\\python310\\site-packages (from streamlit) (8.0.0)\n",
      "Requirement already satisfied: packaging>=14.1 in c:\\users\\kaust\\appdata\\roaming\\python\\python310\\site-packages (from streamlit) (23.2)\n",
      "Requirement already satisfied: pandas<3,>=0.25 in c:\\users\\kaust\\appdata\\roaming\\python\\python310\\site-packages (from streamlit) (1.4.4)\n",
      "Requirement already satisfied: pillow>=6.2.0 in c:\\users\\kaust\\appdata\\roaming\\python\\python310\\site-packages (from streamlit) (9.2.0)\n",
      "Requirement already satisfied: protobuf<4,>=3.12 in c:\\users\\kaust\\appdata\\roaming\\python\\python310\\site-packages (from streamlit) (3.20.3)\n",
      "Requirement already satisfied: pyarrow>=4.0 in c:\\users\\kaust\\appdata\\roaming\\python\\python310\\site-packages (from streamlit) (12.0.1)\n",
      "Requirement already satisfied: pympler>=0.9 in c:\\users\\kaust\\appdata\\roaming\\python\\python310\\site-packages (from streamlit) (1.0.1)\n",
      "Requirement already satisfied: python-dateutil in c:\\users\\kaust\\appdata\\roaming\\python\\python310\\site-packages (from streamlit) (2.9.0.post0)\n",
      "Requirement already satisfied: rich>=10.11.0 in c:\\users\\kaust\\appdata\\roaming\\python\\python310\\site-packages (from streamlit) (13.7.1)\n",
      "Requirement already satisfied: toml in c:\\users\\kaust\\appdata\\roaming\\python\\python310\\site-packages (from streamlit) (0.10.2)\n",
      "Requirement already satisfied: typing-extensions>=3.10.0.0 in c:\\users\\kaust\\appdata\\roaming\\python\\python310\\site-packages (from streamlit) (4.12.2)\n",
      "Requirement already satisfied: tzlocal>=1.1 in c:\\users\\kaust\\appdata\\roaming\\python\\python310\\site-packages (from streamlit) (5.2)\n",
      "Requirement already satisfied: validators>=0.2 in c:\\users\\kaust\\appdata\\roaming\\python\\python310\\site-packages (from streamlit) (0.28.3)\n",
      "Requirement already satisfied: gitpython!=3.1.19 in c:\\users\\kaust\\appdata\\roaming\\python\\python310\\site-packages (from streamlit) (3.1.43)\n",
      "Requirement already satisfied: pydeck>=0.1.dev5 in c:\\users\\kaust\\appdata\\roaming\\python\\python310\\site-packages (from streamlit) (0.9.1)\n",
      "Requirement already satisfied: tornado>=6.0.3 in c:\\users\\kaust\\appdata\\roaming\\python\\python310\\site-packages (from streamlit) (6.3.1)\n",
      "Requirement already satisfied: watchdog in c:\\users\\kaust\\appdata\\roaming\\python\\python310\\site-packages (from streamlit) (4.0.1)\n",
      "Requirement already satisfied: transformers<5.0.0,>=4.34.0 in c:\\users\\kaust\\appdata\\roaming\\python\\python310\\site-packages (from sentence-transformers) (4.44.2)\n",
      "Requirement already satisfied: tqdm in c:\\users\\kaust\\appdata\\roaming\\python\\python310\\site-packages (from sentence-transformers) (4.66.5)\n",
      "Requirement already satisfied: torch>=1.11.0 in c:\\users\\kaust\\appdata\\roaming\\python\\python310\\site-packages (from sentence-transformers) (2.2.1)\n",
      "Requirement already satisfied: scikit-learn in c:\\users\\kaust\\appdata\\roaming\\python\\python310\\site-packages (from sentence-transformers) (1.5.1)\n",
      "Requirement already satisfied: scipy in c:\\users\\kaust\\appdata\\roaming\\python\\python310\\site-packages (from sentence-transformers) (1.9.0)\n",
      "Requirement already satisfied: huggingface-hub>=0.15.1 in c:\\users\\kaust\\appdata\\roaming\\python\\python310\\site-packages (from sentence-transformers) (0.23.4)\n",
      "Requirement already satisfied: chromadb!=0.5.4,!=0.5.5,<0.6.0,>=0.4.0 in c:\\users\\kaust\\appdata\\roaming\\python\\python310\\site-packages (from langchain_chroma) (0.5.3)\n",
      "Requirement already satisfied: fastapi<1,>=0.95.2 in c:\\users\\kaust\\appdata\\roaming\\python\\python310\\site-packages (from langchain_chroma) (0.112.0)\n",
      "Requirement already satisfied: types-requests<3.0.0.0,>=2.31.0.2 in c:\\users\\kaust\\appdata\\roaming\\python\\python310\\site-packages (from langchainhub) (2.32.0.20240905)\n",
      "Requirement already satisfied: pyclipper>=1.2.0 in c:\\users\\kaust\\appdata\\roaming\\python\\python310\\site-packages (from rapidocr-onnxruntime) (1.3.0.post5)\n",
      "Requirement already satisfied: opencv-python>=4.5.1.48 in c:\\users\\kaust\\appdata\\roaming\\python\\python310\\site-packages (from rapidocr-onnxruntime) (4.9.0.80)\n",
      "Requirement already satisfied: six>=1.15.0 in c:\\users\\kaust\\appdata\\roaming\\python\\python310\\site-packages (from rapidocr-onnxruntime) (1.16.0)\n",
      "Requirement already satisfied: Shapely!=2.0.4,>=1.7.1 in c:\\users\\kaust\\appdata\\roaming\\python\\python310\\site-packages (from rapidocr-onnxruntime) (2.0.6)\n",
      "Requirement already satisfied: onnxruntime>=1.7.0 in c:\\users\\kaust\\appdata\\roaming\\python\\python310\\site-packages (from rapidocr-onnxruntime) (1.18.1)\n",
      "Requirement already satisfied: attrs>=17.3.0 in c:\\users\\kaust\\appdata\\roaming\\python\\python310\\site-packages (from aiohttp<4.0.0,>=3.8.3->langchain) (23.1.0)\n",
      "Requirement already satisfied: charset-normalizer<4.0,>=2.0 in c:\\users\\kaust\\appdata\\roaming\\python\\python310\\site-packages (from aiohttp<4.0.0,>=3.8.3->langchain) (2.1.0)\n",
      "Requirement already satisfied: multidict<7.0,>=4.5 in c:\\users\\kaust\\appdata\\roaming\\python\\python310\\site-packages (from aiohttp<4.0.0,>=3.8.3->langchain) (6.0.4)\n",
      "Requirement already satisfied: yarl<2.0,>=1.0 in c:\\users\\kaust\\appdata\\roaming\\python\\python310\\site-packages (from aiohttp<4.0.0,>=3.8.3->langchain) (1.9.2)\n",
      "Requirement already satisfied: frozenlist>=1.1.1 in c:\\users\\kaust\\appdata\\roaming\\python\\python310\\site-packages (from aiohttp<4.0.0,>=3.8.3->langchain) (1.3.3)\n",
      "Requirement already satisfied: aiosignal>=1.1.2 in c:\\users\\kaust\\appdata\\roaming\\python\\python310\\site-packages (from aiohttp<4.0.0,>=3.8.3->langchain) (1.3.1)\n",
      "Requirement already satisfied: entrypoints in c:\\users\\kaust\\appdata\\roaming\\python\\python310\\site-packages (from altair<5,>=3.2.0->streamlit) (0.4)\n",
      "Requirement already satisfied: jinja2 in c:\\users\\kaust\\appdata\\roaming\\python\\python310\\site-packages (from altair<5,>=3.2.0->streamlit) (3.1.2)\n",
      "Requirement already satisfied: jsonschema>=3.0 in c:\\users\\kaust\\appdata\\roaming\\python\\python310\\site-packages (from altair<5,>=3.2.0->streamlit) (4.17.3)\n",
      "Requirement already satisfied: toolz in c:\\users\\kaust\\appdata\\roaming\\python\\python310\\site-packages (from altair<5,>=3.2.0->streamlit) (0.12.1)\n",
      "Requirement already satisfied: build>=1.0.3 in c:\\users\\kaust\\appdata\\roaming\\python\\python310\\site-packages (from chromadb!=0.5.4,!=0.5.5,<0.6.0,>=0.4.0->langchain_chroma) (1.2.1)\n",
      "Requirement already satisfied: chroma-hnswlib==0.7.3 in c:\\users\\kaust\\appdata\\roaming\\python\\python310\\site-packages (from chromadb!=0.5.4,!=0.5.5,<0.6.0,>=0.4.0->langchain_chroma) (0.7.3)\n",
      "Requirement already satisfied: uvicorn>=0.18.3 in c:\\users\\kaust\\appdata\\roaming\\python\\python310\\site-packages (from uvicorn[standard]>=0.18.3->chromadb!=0.5.4,!=0.5.5,<0.6.0,>=0.4.0->langchain_chroma) (0.30.6)\n",
      "Requirement already satisfied: posthog>=2.4.0 in c:\\users\\kaust\\appdata\\roaming\\python\\python310\\site-packages (from chromadb!=0.5.4,!=0.5.5,<0.6.0,>=0.4.0->langchain_chroma) (3.5.0)\n",
      "Requirement already satisfied: opentelemetry-api>=1.2.0 in c:\\users\\kaust\\appdata\\roaming\\python\\python310\\site-packages (from chromadb!=0.5.4,!=0.5.5,<0.6.0,>=0.4.0->langchain_chroma) (1.26.0)\n",
      "Requirement already satisfied: opentelemetry-exporter-otlp-proto-grpc>=1.2.0 in c:\\users\\kaust\\appdata\\roaming\\python\\python310\\site-packages (from chromadb!=0.5.4,!=0.5.5,<0.6.0,>=0.4.0->langchain_chroma) (1.26.0)\n",
      "Requirement already satisfied: opentelemetry-instrumentation-fastapi>=0.41b0 in c:\\users\\kaust\\appdata\\roaming\\python\\python310\\site-packages (from chromadb!=0.5.4,!=0.5.5,<0.6.0,>=0.4.0->langchain_chroma) (0.47b0)\n",
      "Requirement already satisfied: opentelemetry-sdk>=1.2.0 in c:\\users\\kaust\\appdata\\roaming\\python\\python310\\site-packages (from chromadb!=0.5.4,!=0.5.5,<0.6.0,>=0.4.0->langchain_chroma) (1.26.0)\n",
      "Requirement already satisfied: tokenizers>=0.13.2 in c:\\users\\kaust\\appdata\\roaming\\python\\python310\\site-packages (from chromadb!=0.5.4,!=0.5.5,<0.6.0,>=0.4.0->langchain_chroma) (0.19.1)\n",
      "Requirement already satisfied: pypika>=0.48.9 in c:\\users\\kaust\\appdata\\roaming\\python\\python310\\site-packages (from chromadb!=0.5.4,!=0.5.5,<0.6.0,>=0.4.0->langchain_chroma) (0.48.9)\n",
      "Requirement already satisfied: overrides>=7.3.1 in c:\\users\\kaust\\appdata\\roaming\\python\\python310\\site-packages (from chromadb!=0.5.4,!=0.5.5,<0.6.0,>=0.4.0->langchain_chroma) (7.7.0)\n",
      "Requirement already satisfied: importlib-resources in c:\\users\\kaust\\appdata\\roaming\\python\\python310\\site-packages (from chromadb!=0.5.4,!=0.5.5,<0.6.0,>=0.4.0->langchain_chroma) (5.2.0)\n",
      "Requirement already satisfied: grpcio>=1.58.0 in c:\\users\\kaust\\appdata\\roaming\\python\\python310\\site-packages (from chromadb!=0.5.4,!=0.5.5,<0.6.0,>=0.4.0->langchain_chroma) (1.65.4)\n",
      "Requirement already satisfied: bcrypt>=4.0.1 in c:\\users\\kaust\\appdata\\roaming\\python\\python310\\site-packages (from chromadb!=0.5.4,!=0.5.5,<0.6.0,>=0.4.0->langchain_chroma) (4.2.0)\n",
      "Requirement already satisfied: typer>=0.9.0 in c:\\users\\kaust\\appdata\\roaming\\python\\python310\\site-packages (from chromadb!=0.5.4,!=0.5.5,<0.6.0,>=0.4.0->langchain_chroma) (0.12.3)\n",
      "Requirement already satisfied: kubernetes>=28.1.0 in c:\\users\\kaust\\appdata\\roaming\\python\\python310\\site-packages (from chromadb!=0.5.4,!=0.5.5,<0.6.0,>=0.4.0->langchain_chroma) (30.1.0)\n",
      "Requirement already satisfied: mmh3>=4.0.1 in c:\\users\\kaust\\appdata\\roaming\\python\\python310\\site-packages (from chromadb!=0.5.4,!=0.5.5,<0.6.0,>=0.4.0->langchain_chroma) (4.1.0)\n",
      "Requirement already satisfied: orjson>=3.9.12 in c:\\users\\kaust\\appdata\\roaming\\python\\python310\\site-packages (from chromadb!=0.5.4,!=0.5.5,<0.6.0,>=0.4.0->langchain_chroma) (3.10.7)\n",
      "Requirement already satisfied: httpx>=0.27.0 in c:\\users\\kaust\\appdata\\roaming\\python\\python310\\site-packages (from chromadb!=0.5.4,!=0.5.5,<0.6.0,>=0.4.0->langchain_chroma) (0.27.0)\n",
      "Requirement already satisfied: colorama in c:\\users\\kaust\\appdata\\roaming\\python\\python310\\site-packages (from click>=7.0->streamlit) (0.4.6)\n",
      "Requirement already satisfied: marshmallow<4.0.0,>=3.18.0 in c:\\users\\kaust\\appdata\\roaming\\python\\python310\\site-packages (from dataclasses-json<0.7,>=0.5.7->langchain_community) (3.21.3)\n",
      "Requirement already satisfied: typing-inspect<1,>=0.4.0 in c:\\users\\kaust\\appdata\\roaming\\python\\python310\\site-packages (from dataclasses-json<0.7,>=0.5.7->langchain_community) (0.9.0)\n",
      "Requirement already satisfied: starlette<0.38.0,>=0.37.2 in c:\\users\\kaust\\appdata\\roaming\\python\\python310\\site-packages (from fastapi<1,>=0.95.2->langchain_chroma) (0.37.2)\n",
      "Requirement already satisfied: gitdb<5,>=4.0.1 in c:\\users\\kaust\\appdata\\roaming\\python\\python310\\site-packages (from gitpython!=3.1.19->streamlit) (4.0.11)\n",
      "Requirement already satisfied: google-ai-generativelanguage==0.6.6 in c:\\users\\kaust\\appdata\\roaming\\python\\python310\\site-packages (from google-generativeai<0.8.0,>=0.7.0->langchain-google-genai) (0.6.6)\n",
      "Requirement already satisfied: google-api-core in c:\\users\\kaust\\appdata\\roaming\\python\\python310\\site-packages (from google-generativeai<0.8.0,>=0.7.0->langchain-google-genai) (2.19.1)\n",
      "Requirement already satisfied: google-api-python-client in c:\\users\\kaust\\appdata\\roaming\\python\\python310\\site-packages (from google-generativeai<0.8.0,>=0.7.0->langchain-google-genai) (2.138.0)\n",
      "Requirement already satisfied: google-auth>=2.15.0 in c:\\users\\kaust\\appdata\\roaming\\python\\python310\\site-packages (from google-generativeai<0.8.0,>=0.7.0->langchain-google-genai) (2.23.3)\n",
      "Requirement already satisfied: proto-plus<2.0.0dev,>=1.22.3 in c:\\users\\kaust\\appdata\\roaming\\python\\python310\\site-packages (from google-ai-generativelanguage==0.6.6->google-generativeai<0.8.0,>=0.7.0->langchain-google-genai) (1.24.0)\n",
      "Requirement already satisfied: filelock in c:\\users\\kaust\\appdata\\roaming\\python\\python310\\site-packages (from huggingface-hub>=0.15.1->sentence-transformers) (3.12.2)\n",
      "Requirement already satisfied: fsspec>=2023.5.0 in c:\\users\\kaust\\appdata\\roaming\\python\\python310\\site-packages (from huggingface-hub>=0.15.1->sentence-transformers) (2023.6.0)\n",
      "Requirement already satisfied: zipp>=0.5 in c:\\users\\kaust\\appdata\\roaming\\python\\python310\\site-packages (from importlib-metadata>=1.4->streamlit) (3.4.1)\n",
      "Requirement already satisfied: jsonpatch<2.0,>=1.33 in c:\\users\\kaust\\appdata\\roaming\\python\\python310\\site-packages (from langchain-core<0.3.0,>=0.2.38->langchain) (1.33)\n",
      "Requirement already satisfied: coloredlogs in c:\\users\\kaust\\appdata\\roaming\\python\\python310\\site-packages (from onnxruntime>=1.7.0->rapidocr-onnxruntime) (15.0.1)\n",
      "Requirement already satisfied: flatbuffers in c:\\users\\kaust\\appdata\\roaming\\python\\python310\\site-packages (from onnxruntime>=1.7.0->rapidocr-onnxruntime) (23.5.26)\n",
      "Requirement already satisfied: sympy in c:\\users\\kaust\\appdata\\roaming\\python\\python310\\site-packages (from onnxruntime>=1.7.0->rapidocr-onnxruntime) (1.10.1)\n",
      "Requirement already satisfied: pytz>=2020.1 in c:\\users\\kaust\\appdata\\roaming\\python\\python310\\site-packages (from pandas<3,>=0.25->streamlit) (2021.1)\n",
      "Requirement already satisfied: annotated-types>=0.4.0 in c:\\users\\kaust\\appdata\\roaming\\python\\python310\\site-packages (from pydantic<3,>=1->langchain) (0.7.0)\n",
      "Requirement already satisfied: pydantic-core==2.18.4 in c:\\users\\kaust\\appdata\\roaming\\python\\python310\\site-packages (from pydantic<3,>=1->langchain) (2.18.4)\n",
      "Requirement already satisfied: idna<4,>=2.5 in c:\\users\\kaust\\appdata\\roaming\\python\\python310\\site-packages (from requests<3,>=2->langchain) (2.10)\n",
      "Requirement already satisfied: urllib3<3,>=1.21.1 in c:\\users\\kaust\\appdata\\roaming\\python\\python310\\site-packages (from requests<3,>=2->langchain) (2.2.2)\n",
      "Requirement already satisfied: certifi>=2017.4.17 in c:\\users\\kaust\\appdata\\roaming\\python\\python310\\site-packages (from requests<3,>=2->langchain) (2022.6.15)\n",
      "Requirement already satisfied: markdown-it-py>=2.2.0 in c:\\users\\kaust\\appdata\\roaming\\python\\python310\\site-packages (from rich>=10.11.0->streamlit) (3.0.0)\n",
      "Requirement already satisfied: pygments<3.0.0,>=2.13.0 in c:\\users\\kaust\\appdata\\roaming\\python\\python310\\site-packages (from rich>=10.11.0->streamlit) (2.15.1)\n",
      "Requirement already satisfied: greenlet!=0.4.17 in c:\\users\\kaust\\appdata\\roaming\\python\\python310\\site-packages (from SQLAlchemy<3,>=1.4->langchain) (3.0.3)\n",
      "Requirement already satisfied: networkx in c:\\users\\kaust\\appdata\\roaming\\python\\python310\\site-packages (from torch>=1.11.0->sentence-transformers) (3.2.1)\n",
      "Requirement already satisfied: regex!=2019.12.17 in c:\\users\\kaust\\appdata\\roaming\\python\\python310\\site-packages (from transformers<5.0.0,>=4.34.0->sentence-transformers) (2021.4.4)\n",
      "Requirement already satisfied: safetensors>=0.4.1 in c:\\users\\kaust\\appdata\\roaming\\python\\python310\\site-packages (from transformers<5.0.0,>=4.34.0->sentence-transformers) (0.4.3)\n",
      "Requirement already satisfied: tzdata in c:\\users\\kaust\\appdata\\roaming\\python\\python310\\site-packages (from tzlocal>=1.1->streamlit) (2024.1)\n",
      "Requirement already satisfied: joblib>=1.2.0 in c:\\users\\kaust\\appdata\\roaming\\python\\python310\\site-packages (from scikit-learn->sentence-transformers) (1.4.2)\n",
      "Requirement already satisfied: threadpoolctl>=3.1.0 in c:\\users\\kaust\\appdata\\roaming\\python\\python310\\site-packages (from scikit-learn->sentence-transformers) (3.5.0)\n",
      "Requirement already satisfied: pyproject_hooks in c:\\users\\kaust\\appdata\\roaming\\python\\python310\\site-packages (from build>=1.0.3->chromadb!=0.5.4,!=0.5.5,<0.6.0,>=0.4.0->langchain_chroma) (1.1.0)\n",
      "Requirement already satisfied: tomli>=1.1.0 in c:\\users\\kaust\\appdata\\roaming\\python\\python310\\site-packages (from build>=1.0.3->chromadb!=0.5.4,!=0.5.5,<0.6.0,>=0.4.0->langchain_chroma) (2.0.1)\n",
      "Requirement already satisfied: smmap<6,>=3.0.1 in c:\\users\\kaust\\appdata\\roaming\\python\\python310\\site-packages (from gitdb<5,>=4.0.1->gitpython!=3.1.19->streamlit) (5.0.1)\n",
      "Requirement already satisfied: googleapis-common-protos<2.0.dev0,>=1.56.2 in c:\\users\\kaust\\appdata\\roaming\\python\\python310\\site-packages (from google-api-core->google-generativeai<0.8.0,>=0.7.0->langchain-google-genai) (1.63.2)\n",
      "Requirement already satisfied: pyasn1-modules>=0.2.1 in c:\\users\\kaust\\appdata\\roaming\\python\\python310\\site-packages (from google-auth>=2.15.0->google-generativeai<0.8.0,>=0.7.0->langchain-google-genai) (0.3.0)\n",
      "Requirement already satisfied: rsa<5,>=3.1.4 in c:\\users\\kaust\\appdata\\roaming\\python\\python310\\site-packages (from google-auth>=2.15.0->google-generativeai<0.8.0,>=0.7.0->langchain-google-genai) (4.9)\n",
      "Requirement already satisfied: anyio in c:\\users\\kaust\\appdata\\roaming\\python\\python310\\site-packages (from httpx>=0.27.0->chromadb!=0.5.4,!=0.5.5,<0.6.0,>=0.4.0->langchain_chroma) (3.6.2)\n",
      "Requirement already satisfied: httpcore==1.* in c:\\users\\kaust\\appdata\\roaming\\python\\python310\\site-packages (from httpx>=0.27.0->chromadb!=0.5.4,!=0.5.5,<0.6.0,>=0.4.0->langchain_chroma) (1.0.5)\n",
      "Requirement already satisfied: sniffio in c:\\users\\kaust\\appdata\\roaming\\python\\python310\\site-packages (from httpx>=0.27.0->chromadb!=0.5.4,!=0.5.5,<0.6.0,>=0.4.0->langchain_chroma) (1.3.0)\n",
      "Requirement already satisfied: h11<0.15,>=0.13 in c:\\users\\kaust\\appdata\\roaming\\python\\python310\\site-packages (from httpcore==1.*->httpx>=0.27.0->chromadb!=0.5.4,!=0.5.5,<0.6.0,>=0.4.0->langchain_chroma) (0.14.0)\n",
      "Requirement already satisfied: MarkupSafe>=2.0 in c:\\users\\kaust\\appdata\\roaming\\python\\python310\\site-packages (from jinja2->altair<5,>=3.2.0->streamlit) (2.1.2)\n",
      "Requirement already satisfied: jsonpointer>=1.9 in c:\\users\\kaust\\appdata\\roaming\\python\\python310\\site-packages (from jsonpatch<2.0,>=1.33->langchain-core<0.3.0,>=0.2.38->langchain) (2.3)\n",
      "Requirement already satisfied: pyrsistent!=0.17.0,!=0.17.1,!=0.17.2,>=0.14.0 in c:\\users\\kaust\\appdata\\roaming\\python\\python310\\site-packages (from jsonschema>=3.0->altair<5,>=3.2.0->streamlit) (0.19.3)\n",
      "Requirement already satisfied: websocket-client!=0.40.0,!=0.41.*,!=0.42.*,>=0.32.0 in c:\\users\\kaust\\appdata\\roaming\\python\\python310\\site-packages (from kubernetes>=28.1.0->chromadb!=0.5.4,!=0.5.5,<0.6.0,>=0.4.0->langchain_chroma) (1.6.1)\n",
      "Requirement already satisfied: requests-oauthlib in c:\\users\\kaust\\appdata\\roaming\\python\\python310\\site-packages (from kubernetes>=28.1.0->chromadb!=0.5.4,!=0.5.5,<0.6.0,>=0.4.0->langchain_chroma) (1.3.1)\n",
      "Requirement already satisfied: oauthlib>=3.2.2 in c:\\users\\kaust\\appdata\\roaming\\python\\python310\\site-packages (from kubernetes>=28.1.0->chromadb!=0.5.4,!=0.5.5,<0.6.0,>=0.4.0->langchain_chroma) (3.2.2)\n",
      "Requirement already satisfied: mdurl~=0.1 in c:\\users\\kaust\\appdata\\roaming\\python\\python310\\site-packages (from markdown-it-py>=2.2.0->rich>=10.11.0->streamlit) (0.1.2)\n",
      "Requirement already satisfied: deprecated>=1.2.6 in c:\\users\\kaust\\appdata\\roaming\\python\\python310\\site-packages (from opentelemetry-api>=1.2.0->chromadb!=0.5.4,!=0.5.5,<0.6.0,>=0.4.0->langchain_chroma) (1.2.14)\n",
      "Requirement already satisfied: opentelemetry-exporter-otlp-proto-common==1.26.0 in c:\\users\\kaust\\appdata\\roaming\\python\\python310\\site-packages (from opentelemetry-exporter-otlp-proto-grpc>=1.2.0->chromadb!=0.5.4,!=0.5.5,<0.6.0,>=0.4.0->langchain_chroma) (1.26.0)\n",
      "Requirement already satisfied: opentelemetry-proto==1.26.0 in c:\\users\\kaust\\appdata\\roaming\\python\\python310\\site-packages (from opentelemetry-exporter-otlp-proto-grpc>=1.2.0->chromadb!=0.5.4,!=0.5.5,<0.6.0,>=0.4.0->langchain_chroma) (1.26.0)\n",
      "Requirement already satisfied: opentelemetry-instrumentation-asgi==0.47b0 in c:\\users\\kaust\\appdata\\roaming\\python\\python310\\site-packages (from opentelemetry-instrumentation-fastapi>=0.41b0->chromadb!=0.5.4,!=0.5.5,<0.6.0,>=0.4.0->langchain_chroma) (0.47b0)\n",
      "Requirement already satisfied: opentelemetry-instrumentation==0.47b0 in c:\\users\\kaust\\appdata\\roaming\\python\\python310\\site-packages (from opentelemetry-instrumentation-fastapi>=0.41b0->chromadb!=0.5.4,!=0.5.5,<0.6.0,>=0.4.0->langchain_chroma) (0.47b0)\n",
      "Requirement already satisfied: opentelemetry-semantic-conventions==0.47b0 in c:\\users\\kaust\\appdata\\roaming\\python\\python310\\site-packages (from opentelemetry-instrumentation-fastapi>=0.41b0->chromadb!=0.5.4,!=0.5.5,<0.6.0,>=0.4.0->langchain_chroma) (0.47b0)\n",
      "Requirement already satisfied: opentelemetry-util-http==0.47b0 in c:\\users\\kaust\\appdata\\roaming\\python\\python310\\site-packages (from opentelemetry-instrumentation-fastapi>=0.41b0->chromadb!=0.5.4,!=0.5.5,<0.6.0,>=0.4.0->langchain_chroma) (0.47b0)\n",
      "Requirement already satisfied: setuptools>=16.0 in c:\\users\\kaust\\appdata\\roaming\\python\\python310\\site-packages (from opentelemetry-instrumentation==0.47b0->opentelemetry-instrumentation-fastapi>=0.41b0->chromadb!=0.5.4,!=0.5.5,<0.6.0,>=0.4.0->langchain_chroma) (69.5.1)\n",
      "Requirement already satisfied: wrapt<2.0.0,>=1.0.0 in c:\\users\\kaust\\appdata\\roaming\\python\\python310\\site-packages (from opentelemetry-instrumentation==0.47b0->opentelemetry-instrumentation-fastapi>=0.41b0->chromadb!=0.5.4,!=0.5.5,<0.6.0,>=0.4.0->langchain_chroma) (1.14.1)\n",
      "Requirement already satisfied: asgiref~=3.0 in c:\\users\\kaust\\appdata\\roaming\\python\\python310\\site-packages (from opentelemetry-instrumentation-asgi==0.47b0->opentelemetry-instrumentation-fastapi>=0.41b0->chromadb!=0.5.4,!=0.5.5,<0.6.0,>=0.4.0->langchain_chroma) (3.8.1)\n",
      "Requirement already satisfied: monotonic>=1.5 in c:\\users\\kaust\\appdata\\roaming\\python\\python310\\site-packages (from posthog>=2.4.0->chromadb!=0.5.4,!=0.5.5,<0.6.0,>=0.4.0->langchain_chroma) (1.6)\n",
      "Requirement already satisfied: backoff>=1.10.0 in c:\\users\\kaust\\appdata\\roaming\\python\\python310\\site-packages (from posthog>=2.4.0->chromadb!=0.5.4,!=0.5.5,<0.6.0,>=0.4.0->langchain_chroma) (2.2.1)\n",
      "Requirement already satisfied: shellingham>=1.3.0 in c:\\users\\kaust\\appdata\\roaming\\python\\python310\\site-packages (from typer>=0.9.0->chromadb!=0.5.4,!=0.5.5,<0.6.0,>=0.4.0->langchain_chroma) (1.5.4)\n",
      "Requirement already satisfied: mypy-extensions>=0.3.0 in c:\\users\\kaust\\appdata\\roaming\\python\\python310\\site-packages (from typing-inspect<1,>=0.4.0->dataclasses-json<0.7,>=0.5.7->langchain_community) (1.0.0)\n",
      "Requirement already satisfied: httptools>=0.5.0 in c:\\users\\kaust\\appdata\\roaming\\python\\python310\\site-packages (from uvicorn[standard]>=0.18.3->chromadb!=0.5.4,!=0.5.5,<0.6.0,>=0.4.0->langchain_chroma) (0.6.1)\n",
      "Requirement already satisfied: watchfiles>=0.13 in c:\\users\\kaust\\appdata\\roaming\\python\\python310\\site-packages (from uvicorn[standard]>=0.18.3->chromadb!=0.5.4,!=0.5.5,<0.6.0,>=0.4.0->langchain_chroma) (0.23.0)\n",
      "Requirement already satisfied: websockets>=10.4 in c:\\users\\kaust\\appdata\\roaming\\python\\python310\\site-packages (from uvicorn[standard]>=0.18.3->chromadb!=0.5.4,!=0.5.5,<0.6.0,>=0.4.0->langchain_chroma) (12.0)\n",
      "Requirement already satisfied: humanfriendly>=9.1 in c:\\users\\kaust\\appdata\\roaming\\python\\python310\\site-packages (from coloredlogs->onnxruntime>=1.7.0->rapidocr-onnxruntime) (10.0)\n",
      "Requirement already satisfied: httplib2<1.dev0,>=0.19.0 in c:\\users\\kaust\\appdata\\roaming\\python\\python310\\site-packages (from google-api-python-client->google-generativeai<0.8.0,>=0.7.0->langchain-google-genai) (0.22.0)\n",
      "Requirement already satisfied: google-auth-httplib2<1.0.0,>=0.2.0 in c:\\users\\kaust\\appdata\\roaming\\python\\python310\\site-packages (from google-api-python-client->google-generativeai<0.8.0,>=0.7.0->langchain-google-genai) (0.2.0)\n",
      "Requirement already satisfied: uritemplate<5,>=3.0.1 in c:\\users\\kaust\\appdata\\roaming\\python\\python310\\site-packages (from google-api-python-client->google-generativeai<0.8.0,>=0.7.0->langchain-google-genai) (4.1.1)\n",
      "Requirement already satisfied: mpmath>=0.19 in c:\\users\\kaust\\appdata\\roaming\\python\\python310\\site-packages (from sympy->onnxruntime>=1.7.0->rapidocr-onnxruntime) (1.2.1)\n",
      "Requirement already satisfied: grpcio-status<2.0.dev0,>=1.33.2 in c:\\users\\kaust\\appdata\\roaming\\python\\python310\\site-packages (from google-api-core[grpc]!=2.0.*,!=2.1.*,!=2.10.*,!=2.2.*,!=2.3.*,!=2.4.*,!=2.5.*,!=2.6.*,!=2.7.*,!=2.8.*,!=2.9.*,<3.0.0dev,>=1.34.1->google-ai-generativelanguage==0.6.6->google-generativeai<0.8.0,>=0.7.0->langchain-google-genai) (1.48.2)\n",
      "Requirement already satisfied: pyparsing!=3.0.0,!=3.0.1,!=3.0.2,!=3.0.3,<4,>=2.4.2 in c:\\users\\kaust\\appdata\\roaming\\python\\python310\\site-packages (from httplib2<1.dev0,>=0.19.0->google-api-python-client->google-generativeai<0.8.0,>=0.7.0->langchain-google-genai) (2.4.7)\n",
      "Requirement already satisfied: pyreadline3 in c:\\users\\kaust\\appdata\\roaming\\python\\python310\\site-packages (from humanfriendly>=9.1->coloredlogs->onnxruntime>=1.7.0->rapidocr-onnxruntime) (3.4.1)\n",
      "Requirement already satisfied: pyasn1<0.6.0,>=0.4.6 in c:\\users\\kaust\\appdata\\roaming\\python\\python310\\site-packages (from pyasn1-modules>=0.2.1->google-auth>=2.15.0->google-generativeai<0.8.0,>=0.7.0->langchain-google-genai) (0.5.0)\n"
     ]
    },
    {
     "name": "stderr",
     "output_type": "stream",
     "text": [
      "WARNING: Ignoring invalid distribution -rotobuf (c:\\users\\kaust\\appdata\\roaming\\python\\python310\\site-packages)\n",
      "WARNING: Ignoring invalid distribution -rotobuf (c:\\users\\kaust\\appdata\\roaming\\python\\python310\\site-packages)\n",
      "WARNING: Ignoring invalid distribution -rotobuf (c:\\users\\kaust\\appdata\\roaming\\python\\python310\\site-packages)\n"
     ]
    }
   ],
   "source": [
    "%pip install langchain langchain_community langchain-google-genai python-dotenv streamlit langchain_experimental sentence-transformers langchain_chroma langchainhub pypdf rapidocr-onnxruntime"
   ]
  },
  {
   "cell_type": "code",
   "execution_count": 19,
   "id": "7d49c22a-1ad0-4395-b93b-aa95660aa026",
   "metadata": {},
   "outputs": [
    {
     "data": {
      "text/plain": [
       "[Document(metadata={'source': 'FEWD Unit-3.pdf', 'page': 0}, page_content=\"React Event Handling  \\nEvent handling is a fundamental aspect of building interactive user interfaces in React. Events such as \\nclicks, key presses, mouse movements, etc., trigger actions within React components. Properly handling \\nthese events is crucial for  creating responsive and interactive applications.  \\nReact components can listen and respond to various events similar to HTML event handling.  \\nEvents are handled using event handlers, which are functions that are executed when a specific event \\noccurs.  \\nHere a re some examples in React demonstrating how to listen and respond to various events . \\n1. Handling Click Events:  \\nimport React from 'react';  \\n \\nclass ClickExample extends React.Component {  \\n  handleClick() {  \\n    alert('Button clicked!');  \\n  } \\n \\n  render() {  \\n    return ( \\n      <button onClick={this.handleClick}>Click me</button>  \\n    ); \\n  } \\n} \\n \\nexport default ClickExample;  \\nIn this example, when the button is clicked, the handleClick method is invoked, which displays an alert.  \\n \\n2. Handling Input Events (onChange):  \\nimport React from 'react';  \\n \\nclass InputExample extends React.Component {  \\n  constructor(props) {  \\n    super(props);  \\n    this.state = { value: '' };  \\n    this.handleChange = this.handleChange.bind(this);  \\n  } \\n \\n  handleChange(event) {  \\n    this.setState({ value: event.target.value });  \\n  } \\n \\n  render() {  \"),\n",
       " Document(metadata={'source': 'FEWD Unit-3.pdf', 'page': 1}, page_content='    return (  \\n      <input  \\n        type=\"text\"  \\n        value={this.state.value}  \\n        onChange={this.handleChange}  \\n        placeholder=\"Type something...\"  \\n      /> \\n    ); \\n  } \\n} \\n \\nexport default InputExample;  \\nIn this example, the handleChange method is called whenever the input field\\'s value changes. It updates \\nthe component\\'s state with the new value entered by the user.  \\n \\n3. Handling Form Submission:  \\nimport React from \\'react\\';  \\n \\nclass FormExample extends React. Component {  \\n  constructor(props) {  \\n    super(props);  \\n    this.state = { username: \\'\\', password: \\'\\' };  \\n    this.handleSubmit = this.handleSubmit.bind(this);  \\n    this.handleChange = this.handleChange.bind(this);  \\n  } \\n \\n  handleChange(event) {  \\n    this.setState ({ [event.target.name]: event.target.value });  \\n  } \\n \\n  handleSubmit(event) {  \\n    event.preventDefault();  \\n    console.log(\\'Submitted: \\', this.state.username, \\nthis.state.password);  \\n  } \\n \\n  render() {  \\n    return (  \\n      <form onSubmit={this.handleSubmit}>  \\n        <input  \\n          type=\"text\"  \\n          name=\"username\"  \\n          value={this.state.username}  \\n          onChange={this.handleChange}  \\n          placeholder=\"Username\"  \\n        /> \\n        <input  \\n          type=\"password\"  '),\n",
       " Document(metadata={'source': 'FEWD Unit-3.pdf', 'page': 2}, page_content='          name=\"password\"  \\n          value={this.state.password}  \\n          onChange={this.handleChange}  \\n          placeholder=\"Password\"  \\n        /> \\n        <button type=\"submit\">Submit</button>  \\n      </form> \\n    ); \\n  } \\n} \\n \\nexport default FormExample;  \\nIn this example, the handleSubmit method is called when the form is submitted. It prevents the default \\nform submission behavior and logs the username and password to the console.  \\n \\n4. Handling Mouse Events:  \\nimport React from \\'react\\';  \\n \\nclass MouseExample exten ds React.Component {  \\n  handleMouseEnter() {  \\n    console.log(\\'Mouse entered\\');  \\n  } \\n \\n  handleMouseLeave() {  \\n    console.log(\\'Mouse left\\');  \\n  } \\n \\n  render() {  \\n    return (  \\n      <div  \\n        onMouseEnter={this.handleMouseEnter}  \\n        onMouseLeave={ this.handleMouseLeave}  \\n        style={{ width: \\'200px\\', height: \\'200px\\', backgroundColor: \\n\\'lightgray\\' }}  \\n      > \\n        Hover over me  \\n      </div> \\n    ); \\n  } \\n} \\n \\nexport default MouseExample;  \\n \\nIn this example, the handleMouseEnter method is called when the mouse enters the <div> element, and \\nthe handleMouseLeave method is called when the mouse leaves the element.  \\n '),\n",
       " Document(metadata={'source': 'FEWD Unit-3.pdf', 'page': 3}, page_content='5. Handling Keyboard Events:  \\nimport React from \\'react\\';  \\n \\nclass KeyboardExample extends React.Component {  \\n  handleKeyPress(event) {  \\n    console.log(\\'Key pressed: \\', event.key);  \\n  } \\n \\n  render() {  \\n    return (  \\n      <input  \\n        type=\"text\"  \\n        onKeyPress={this.handleKeyPress}  \\n        placeholder=\"Type something...\"  \\n      /> \\n    ); \\n  } \\n} \\n \\nexport default KeyboardExample;  \\n \\n6. Handlin g Focus Events:  \\nimport React from \\'react\\';  \\n \\nclass FocusExample extends React.Component {  \\n  handleFocus() {  \\n    console.log(\\'Input field focused\\');  \\n  } \\n \\n  handleBlur() {  \\n    console.log(\\'Input field blurred\\');  \\n  } \\n \\n  render() {  \\n    return (  \\n      <input  \\n        onFocus={this.handleFocus}  \\n        onBlur={this.handleBlur}  \\n        placeholder=\"Click here to focus...\"  \\n      /> \\n    ); \\n  } \\n} \\n \\nexport default FocusExample;  \\nIn this example, the handleFocus method is called when the input field receives focus, a nd the handleBlur \\nmethod is called when the input field loses focus.  '),\n",
       " Document(metadata={'source': 'FEWD Unit-3.pdf', 'page': 4}, page_content=\"Synthetic Events   \\nIn React, Synthetic Events are a cross -browser wrapper around the browser's native event system. They \\nare provided by React to ensure consistent behavior across differen t browsers and platforms.  \\nUsage:  \\nAccessing Event Properties:  \\n\\uf0b7 Synthetic Events provide the same properties and methods as native browser events.  \\n\\uf0b7 Developers can access properties like event.target, event.type, event.preventDefault(), etc., just \\nlike they would with native events.  \\nPassing Events to Handlers:  \\n\\uf0b7 Synthetic Events are passed as arguments to event handler functions in React components.  \\n\\uf0b7 Developers can access the event object by specifying it as a parameter in the event handler \\nfunction.  \\nExample:  \\nfunction handleClick(event) {  \\n  console.log('Clicked at:', event.clientX, event.clientY);  \\n} \\n \\n<button onClick={handleClick}>Click me</button>  \\n \\nIn this example, the handleClick function receives a Synthetic Event object as its argument when the \\nbutton is cli cked. It can access properties like clientX and clientY to get the coordinates of the mouse click.  \"),\n",
       " Document(metadata={'source': 'FEWD Unit-3.pdf', 'page': 5}, page_content=\"React Binding Event Handlers  \\nIn JavaScript, the value of this is determined dynamically based on how a function is called. This behavior \\ncan sometimes lead to unexpected results, especially when dealing with event hand lers in React class \\ncomponents.  \\nWhen you pass a method as an event handler in React, such as onClick={this.handleClick}, the method \\nloses its original context, and this may not refer to the component instance as expected. This can cause \\nerrors or unexpected behavior when accessing this.s tate o r this.props within the method.  \\nTo ensure that this refers to the component instance within event handler methods, you need to bind \\nthem explic itly in React class components.  \\nIn React class components, you need to bind event handler methods in the co nstructor or use arrow \\nfunctions to automatically bind this.  \\nArrow functions automatically bind this to the component's context, making it a co mmon choice for \\nevent handlers.  \\n1. Binding in Class Components:  \\nIn React class components, you can bind event han dler methods in the constructor using the bind method. \\nThis explicitly sets the value of this within the me thod to the component instance.  \\nExample:  \\nclass MyComponent extends React.Component {  \\n  constructor(props) {  \\n    super(props);  \\n    this.state = {  \\n      value: 0  \\n    }; \\n \\n    // Binding the handleClick method  \\n    this.handleClick = this.handleClick.bind(this);  \\n  } \\n \\n  handleClick() {  \\n    // Accessing state  \\n    const currentValue = this.state.value;  \\n    this.setState({ value: currentValue + 1 });  \\n  } \\n  render() {  \\n    return (  \\n      <button onClick={this.handleClick}>Click me</button>  \\n    ); \\n  } \\n} \\n \"),\n",
       " Document(metadata={'source': 'FEWD Unit-3.pdf', 'page': 6}, page_content=\"2. Using Arrow Functions:  \\nAlternatively, you can use arrow functions to define event handlers. Arrow functions automatically bind \\nthis to the component's conte xt where they are define d. \\nExample:  \\nclass MyComponent extends React.Component {  \\n    constructor(props) {  \\n    super(props);  \\n    this.state = {  \\n      value: 0  \\n    }; \\n  } \\n  handleClick = () => {  \\n    const currentValue = this.state.value;  \\n    this.setState({ v alue: currentValue + 1 });  \\n  }; \\n  render() {  \\n    return (  \\n      <button onClick={this.handleClick}>Click me</button>  \\n    ); \\n  } \\n} \\n \"),\n",
       " Document(metadata={'source': 'FEWD Unit-3.pdf', 'page': 7}, page_content='Methods as Props  \\nIn React, methods can be passed as props from parent components to child components. This pattern, \\nknown as \"Methods as Props,\" allows child components to communicate with their parent components \\nby invoking the passed methods.  \\n1. Communication Between Components:  \\n\\uf0b7 Methods as Props enable communication between parent and child components in React.  \\n\\uf0b7 They allow child components to trigger actions or pass data to their parent components.  \\n2. Passing Methods as Props:  \\n\\uf0b7 Parent components can  pass their methods as props to child components.  \\n\\uf0b7 These methods are then accessible within the child components, allowing them to be invoked \\nwhen certain events occur.  \\n3. Triggering Actions in Parent Components:  \\n\\uf0b7 Child components can call the passed methods  to trigger actions in their parent components.  \\n\\uf0b7 This allows for dynamic behavior where child components can influence the state or behavior of \\ntheir parent components.  \\n \\nBenefits:  \\n1. Separation of Concerns:  \\n\\uf0b7 Methods as Props promote a separation of concerns by allowing components to encapsulate their \\nown logic.  \\n\\uf0b7 Parent components remain focused on managing state and rendering UI, while child components \\nhandle specific actions or behaviors.  \\n2. Reusability and Modularity:  \\n\\uf0b7 By passing methods as props, components become more reusable and modular.  \\n\\uf0b7 Child components can be easily reused in different parts of the application without tightly \\ncoupling them to specific parent components.  \\n \\nExample :  \\n// ParentComponent.js  \\nimport React from \\'react\\';  \\nimport ChildComponent  from \\'./ChildComponent\\';  '),\n",
       " Document(metadata={'source': 'FEWD Unit-3.pdf', 'page': 8}, page_content=\" \\nclass ParentComponent extends React.Component {  \\n  handleChildClick() {  \\n    console.log('Child clicked!');  \\n  } \\n \\n  render() {  \\n    return (  \\n      <ChildComponent onClick={this.handleChildClick} />  \\n    ); \\n  } \\n} \\n \\nexport default Parent Component;  \\n \\n// ChildComponent.js  \\nimport React from 'react';  \\n \\nconst ChildComponent = ({ onClick }) => (  \\n  <button onClick={onClick}>Click me</button>  \\n); \\n \\nexport default ChildComponent;  \\n \\nIn this example:  \\nThe ParentComponent passes its handleChildClick  method as a prop called onClick to the \\nChildComponent.  \\nWhen the button in the ChildComponent is clicked, it invokes the onClick method, which triggers the \\nhandleChildClick method in the ParentComponent.  \\n \\n \\n \\n \"),\n",
       " Document(metadata={'source': 'FEWD Unit-3.pdf', 'page': 9}, page_content=\"Conditional Rendering in React  \\nConditional rendering in React involves displaying different components or elements based on certain \\nconditions. This flexibility allows for the creation of more interactive and  personalized user interfaces.  \\nConditional rendering is typically controlled by the state or props of a component. When the state or \\nprops change, React re -renders the component, updating the UI based on the new conditions.  \\nConditional rendering is achieved using JavaScript expressions  within JSX. Developers can use three \\ncommon patterns like if statements, ternary operators, or logical && operators to conditionally  render \\ncomponents or elements.  \\n1. Using if -else statement  \\nimport React from 'react';  \\n \\nconst UserGreeting = ({ isLoggedIn })  => { \\n  let greeting;  \\n  if (isLoggedIn) {  \\n    greeting = <h1>Welcome back!</h1>;  \\n  } else {  \\n    greeting = <h1>Please sign up!</h1>;  \\n  } \\n  return greeting;  \\n}; \\n \\nexport default UserGreeting;  \\n \\nIn this example, We declare a variable greeting and use an if -else statement to determine its value based \\non the value of the isLoggedIn prop.  \\nIf isLoggedIn is true, greeting is assigned the welcome message JSX element; otherwise, it is assigned the \\nsign-up prompt JSX element.  \\nFinally, we return the greeting variable, wh ich contains the appropriate JSX element based on the \\ncondition.  \\n \\n2. Using ternary operator  \\nimport React from 'react';  \\n \\nconst UserGreeting = ({ isLoggedIn }) => {  \\n  return isLoggedIn ? (  \\n    <h1>Welcome back!</h1>  \\n  ) : ( \\n    <h1>Please sign up!</h1>  \"),\n",
       " Document(metadata={'source': 'FEWD Unit-3.pdf', 'page': 10}, page_content=\"  ); \\n}; \\n \\nclass App extends React.Component {  \\n  constructor(props) {  \\n    super(props);  \\n    this.state = {  \\n      isLoggedIn: false  \\n    }; \\n    this.handleLogin = this.handleLogin.bind(this);  \\n    this.handleLogout = this.handleLogout.bind(this);  \\n  } \\n \\n  handleLogin( ) { \\n    this.setState({ isLoggedIn: true });  \\n  } \\n \\n  handleLogout() {  \\n    this.setState({ isLoggedIn: false });  \\n  } \\n \\n  render() {  \\n    const { isLoggedIn } = this.state;  \\n \\n    return (  \\n      <div> \\n        <UserGreeting isLoggedIn={isLoggedIn} />  \\n        <button onClick={this.handleLogin}>Login</button>  \\n        <button onClick={this.handleLogout}>Logout</button>  \\n      </div> \\n    ); \\n  } \\n} \\n \\nexport default App;  \\n \\nIn this example the App component manages the isLoggedIn state.  \\nThe UserGreeting component  receives the isLoggedIn prop and conditionally renders a welcome message \\nor a sign -up prompt based on its value.  \\nButtons are provided in the App component to simulate logging in and logging out, which update the \\nisLoggedIn state accordingly.  \\n \\n3. Using log ical && operator  \\nimport React from 'react';  \\n \"),\n",
       " Document(metadata={'source': 'FEWD Unit-3.pdf', 'page': 11}, page_content='const UserGreeting = ({ isLoggedIn }) => {  \\n  return isLoggedIn && <h1>Welcome back!</h1>;  \\n}; \\n \\nconst App = () => {  \\n  const [isLoggedIn, setIsLoggedIn] = React.useState(false);  \\n \\n  const handleLogin = () => {  \\n    setIsLoggedIn(true);  \\n  }; \\n \\n  const handleLogout = () => {  \\n    setIsLoggedIn(false);  \\n  }; \\n \\n  return (  \\n    <div> \\n      <UserGreeting isLoggedIn={isLoggedIn} />  \\n      {!isLoggedIn && <button onClick={handleLogin}>Login</button>}  \\n      {isLoggedIn && <button o nClick={handleLogout}>Logout</button>}  \\n    </div> \\n  ); \\n}; \\n \\nexport default App;  \\n \\nIn this example the UserGreeting component receives the isLoggedIn prop and conditionally renders the \\nwelcome message using the logical && operator. If isLoggedIn is true, it r enders the welcome message; \\notherwise, it renders null.  \\nIn the App component, buttons for login and logout are conditionally rendered based on the value of \\nisLoggedIn. If isLoggedIn is false, the login button is shown, and if isLoggedIn is true, the logout  button is \\nshown.  \\nClicking on the login button sets isLoggedIn to true, and clicking on the logout button sets isLoggedIn to \\nfalse, effectively toggling between the login and logout states.  \\n '),\n",
       " Document(metadata={'source': 'FEWD Unit-3.pdf', 'page': 12}, page_content='Form Handling: Handling User Input, Handling Form Submission  \\nIn React form handling, there are two primary aspects to consider: handling user input and handling form \\nsubmission. Let\\'s explo re each of these with examples:  \\nHandling User Input  \\nHandling user input involves capturing the data entered by the user into form fields and updating the \\ncomponent\\'s state accordingly. Here\\'s an example demonstrating how to handle user input in a simple \\nform with a single input field:  \\nimport React, { useSta te } from \\'react\\';  \\n \\nfunction UserInputForm() {  \\n  const [inputValue, setInputValue] = useState(\\'\\');  \\n \\n  const handleInputChange = (event) => {  \\n    setInputValue(event.target.value);  \\n  }; \\n \\n  return (  \\n    <form> \\n      <label> \\n        Name: \\n        <input type= \"text\" value={inputValue} \\nonChange={handleInputChange} />  \\n      </label>  \\n      <p>Typed value: {inputValue}</p>  \\n    </form> \\n  ); \\n} \\n \\nexport default UserInputForm;  \\n \\nIn this example, We use the useState hook to create a state variable inputValue  to store the value of the \\ninput field.  \\nThe handleInputChange function is called whenever the value of the input field changes. It updates the \\ninputValue state with the new value entered by the user.  \\nThe input field\\'s value is set to inputValue, ensuring t hat React controls the input field and its value.  \\n \\n  '),\n",
       " Document(metadata={'source': 'FEWD Unit-3.pdf', 'page': 13}, page_content='Handling Form Submission  \\nHandling form submission involves capturing the data entered by the user and performing some action, \\nsuch as submitting the data to a server or processing it locally. Here\\'s an example demonstrating how to \\nhandle form submission:  \\nimport React, { useState } from \\'react\\';  \\n \\nfunction FormWithSubmission() {  \\n  const [formData, setFormData] = useState({  \\n    name: \\'\\',  \\n    email: \\'\\',  \\n  }); \\n \\n  const handleInputChange = (event) => {  \\n    const { name, value } = event.target;  \\n    setFormData({  \\n      ...formData,  \\n      [name]: value,  \\n    }); \\n  }; \\n \\n  const handleSubmit = (event) => {  \\n    event.preventDefault();  \\n    // Here you can perform actions like submitting the form data to a \\nserver \\n    console.log(\\'Form submitted:\\', formData);  \\n  }; \\n \\n  return (  \\n    <form onSubmit={handleSubmit}>  \\n      <label> \\n        Name: \\n        <input type=\"text\" name=\"name\" value={formData.name} \\nonChange={handleInputChange} />  \\n      </label>  \\n      <label> \\n        Email: \\n        <input type=\"email\" name=\"email\" value={formData.email} \\nonChange={handleInputChange} />  \\n      </label>  \\n      <button type=\"submit\">Submit</button>  \\n    </form> \\n  ); \\n} \\n \\nexport default FormWithSubmission;  \\n \\nIn this example, We use the useState  hook to create a state variable formData to store the form data.  '),\n",
       " Document(metadata={'source': 'FEWD Unit-3.pdf', 'page': 14}, page_content='The handleInputChange function updates the corresponding field in the formData state whenever the \\nvalue of any input field changes.  \\nThe handleSubmit function is called when the form is submi tted. It prevents the default form submission \\nbehavior (which would cause a page reload) and logs the form data to the console. You can replace the \\nconsole log with any action you want to perform with the form data.  \\n '),\n",
       " Document(metadata={'source': 'FEWD Unit-3.pdf', 'page': 15}, page_content='Setting Up a JS Config for the Form, Creating a Custom Dynamic Input Component, \\nDynamically Create Inputs Based on JS Confi g \\nSetting Up a JS Config for the Form  \\nBefore creating forms, let\\'s define a JavaScript configuration object for our form. This configuration will \\ndictate what i nputs are rendered dynamically.  \\nconst formConfig = [  \\n  { id: 1, type: \"text\", name: \"firstName\", placeholder: \"First Name\" \\n}, \\n  { id: 2, type: \"text\", name: \"lastName\", placeholder: \"Last Name\" },  \\n  { id: 3, type: \"email\", name: \"email\", placeholder: \"Email\" },  \\n]; \\n \\nCreating a Custom Dynamic Input Component  \\nNow, let’s create a component that takes type, name, and placeholder as props a nd rend ers an input field \\naccordingly.  \\nfunction InputField({ type, name, placeholder }) {  \\n  return <input type={type} name={name} placeholder={placeholder} />;  \\n} \\n \\nDynamically Create Inputs Based on JS Config  \\nUsing the configuration we defined, we can map over the formConfig array to dynam ically create input \\ncomponents.  \\nfunction Form() {  \\n  return (  \\n    <form> \\n      {formConfig.map(field => (  \\n        <InputField key={field.id} type={field.type} name={field.name } \\nplaceholder={field.placeholder} />  \\n      ))} \\n    </form> \\n  ); \\n} \\n \\nHandling User Input  \\nTo manage the state of the input fields, we use React’s useState to keep track of each input\\'s value.  \\n '),\n",
       " Document(metadata={'source': 'FEWD Unit-3.pdf', 'page': 16}, page_content='function Form() {  \\n  const [formData, setFormData] = useState({ fi rstName: \"\", lastName: \\n\"\", email: \"\" });  \\n \\n  function handleChange(event) {  \\n    const { name, value } = event.target;  \\n    setFormData(prevState => ({  \\n      ...prevState,  \\n      [name]: value  \\n    })); \\n  } \\n \\n  return (  \\n    <form> \\n      {formConfig.map(field => (  \\n        <InputField  \\n          key={field.id}  \\n          type={field.type}  \\n          name={field.name}  \\n          placeholder={field.placeholder}  \\n          value={formData[field.name]}  \\n          onChange={handleChange}  \\n        /> \\n      ))} \\n    </form> \\n  ); \\n} \\n \\n \\n \\nHandling Form Submission  \\nFinally, let’s handle the form submission to log the form data.  \\n \\nfunction Form() {  \\n  const [formData, setFormData] = us eState({ firstName: \"\", lastName: \\n\"\", email: \"\" });  \\n \\n  function handleChange(event) {  \\n    const { name, value } = event.target;  \\n    setFormData(prevState => ({  \\n      ...prevState,  \\n      [name]: value  \\n    })); \\n  } \\n \\n  function handleSubmit(event) {  '),\n",
       " Document(metadata={'source': 'FEWD Unit-3.pdf', 'page': 17}, page_content='    event.preventDefault();  // Prevents the default form submit action  \\n    console.log(\\'Submitted Data:\\', formData);  \\n  } \\n \\n  return (  \\n    <form onSubmit={handleSubmit}>  \\n      {formConfig.map(field => (  \\n        <InputField  \\n          key={field.id}  \\n          type={field.type}  \\n          name={field.name}  \\n          placeholder={field.placeholder}  \\n          value={formData[field.name]}  \\n          onChange={handleChange}  \\n        /> \\n      ))} \\n      <button type=\"submit\">Submit</button>  \\n    </form> \\n  ); \\n} \\n '),\n",
       " Document(metadata={'source': 'FEWD Unit-3.pdf', 'page': 18}, page_content='Update the ‘contact us ’ page to a ReactJS. An email should be sent each time \\ncontact us form is submitted.  \\nApp.js  \\nimport React  from \\'react\\';  \\nimport Lab7 from \\'components/Lab7 \\'; \\n \\nfunction App() { \\n  return (  \\n <Lab7/>     \\n  ); \\n} \\n \\nexport default UserInputForm;  \\n \\nPrerequisite:  \\nnpm install emailjs-com \\n \\nStep 1: Sign Up / Log In  \\nFirst, make sure you are sig ned up and logged into EmailJS:  \\nVisit EmailJS and either sign up for a new account or log in if you already have one.  \\nStep 2: Obtain Your User ID  \\nOnce logged in, your Use r ID can usually be found in the dashboard or under the \"Account\" section.  \\nLook for something that says \"API Key\" or directly \"User ID\". This will be needed to authenticate API \\nrequests from your application.  \\nStep 3: Create/Add a Service  \\nNavigate to the \"Email Services\" section.  \\nClick on “Add New Service” or if you already have a service set up, select it.  \\nYou can choose from various email service providers (like Gmail, Outlook, etc.). Follow the prompts to \\nconnect your email account.  \\nAfte r setting it up, EmailJS will assign a Service ID to this email connection. Note down this Service ID.  \\nStep 4: Create an Email Template  \\nGo to the \"Email Templates\" section.  '),\n",
       " Document(metadata={'source': 'FEWD Unit-3.pdf', 'page': 19}, page_content='Click on “Create new template” or choose an existing template.  \\nDesign your email te mplate according to your needs. You can use variables like {{user_name}}, \\n{{user_email}}, and {{message}} in your template. These placeholders will be replaced by the actual data \\nfrom your form when an email is sent.  \\nOnce you have created the template, Ema ilJS will provide you with a Template ID for this specific \\ntemplate.  \\nStep 5: Implement in Your React App  \\nWith these IDs in hand, you can integrate EmailJS in your React app. Here\\'s a refresher on how to use \\nthese IDs in your application:  \\nLab7.js  \\nimport React, { useState } from \\'react\\';  \\nimport emailjs from  \\'emailjs -com\\'; \\n \\nconst Lab7 = () => {  \\n    const [name, setName] = useState(\"\");  \\n    const [email, setEmail] = useState(\"\");  \\n    const [message, setMessage] = useState(\"\");  \\n \\n    const sendEmail = (e) => {  \\n        e.preventDefault();  \\n // Create a new object that contains dynamic template params  \\n        const templateParams = {  \\n            from_name: name,  \\n            from_email: email,  \\n            to_name: \\'Bilahari \\', \\n            message: message,  \\n        }; \\n \\n        emailjs.send( \\'Your_Service_ID \\', \\'Your_Template_ID \\', \\ntemplateParams, \\'Your_User_ID \\') \\n            .then((result) => {  \\n                console.log(result.text);  \\n                alert(\\'Email sent successfully!\\', result);  \\n                setName(\\'\\');  \\n                setEmail(\\'\\');  \\n                setMessage(\\'\\');  \\n            }, (error) => {  \\n                console.log(error.text);  \\n                alert(\\'Failed to send email.\\' ); \\n            }); \\n    }; \\n \\n    return (  \\n        <> '),\n",
       " Document(metadata={'source': 'FEWD Unit-3.pdf', 'page': 20}, page_content='            <h3>Lab 7 Exercise</h3>  \\n            <h4>Contact Us</h4>  \\n            <form onSubmit={sendEmail} className=\\'emailForm\\'>  \\n                <label>Name:</label>  \\n                <input \\n                    type=\"text\"  \\n                    placeholder=\"Your Name\"  \\n                    value={name}  \\n                    onChange={(e) => setName(e.target.value)}  \\n                /> \\n                <label>Email:</label>  \\n                <input \\n                    type=\"email\"  \\n                    placeholder=\"Your Email\"  \\n                    value={email}  \\n                    onChange={(e) => setEmail(e.target.value)}  \\n                /> \\n                <label>Message:</label>  \\n                <textarea  \\n                    cols=\"30\"  \\n                    rows=\"10\"  \\n                    value={message}  \\n                    onChange={(e) => setMessage(e.target.value)}  \\n                /> \\n                <input type=\"submit\" value=\"Send Email\" />  \\n            </form> \\n        </> \\n    ); \\n}; \\n \\nexport default Lab7;  ')]"
      ]
     },
     "execution_count": 19,
     "metadata": {},
     "output_type": "execute_result"
    }
   ],
   "source": [
    "from langchain_community.document_loaders import PyPDFLoader\n",
    "\n",
    "loader = PyPDFLoader(\"FEWD Unit-3.pdf\")\n",
    "data = loader.load()  # entire PDF is loaded as a single Document\n",
    "data\n",
    "\n",
    "# from langchain_community.document_loaders import PyPDFLoader\n",
    "\n",
    "# pdf_files = [\"yolov9_paper.pdf\", \"FEWD Unit-3.pdf\"]\n",
    "\n",
    "# # Initialize an empty list to store the loaded data\n",
    "# data = []\n",
    "\n",
    "# # Loop through the list of PDFs and load each one\n",
    "# for pdf_file in pdf_files:\n",
    "#     loader = PyPDFLoader(pdf_file)\n",
    "#     temp_data = loader.load()  # Load the PDF\n",
    "#     data.append(temp_data)  # Add the loaded document to the list"
   ]
  },
  {
   "cell_type": "code",
   "execution_count": 20,
   "id": "a374eb7c-e262-42bb-8f3f-308ba7dcdbe4",
   "metadata": {},
   "outputs": [
    {
     "data": {
      "text/plain": [
       "21"
      ]
     },
     "execution_count": 20,
     "metadata": {},
     "output_type": "execute_result"
    }
   ],
   "source": [
    "len(data)"
   ]
  },
  {
   "cell_type": "code",
   "execution_count": 21,
   "id": "29633e3b-ff24-4ace-a09b-c03b6e28c5cc",
   "metadata": {},
   "outputs": [
    {
     "name": "stdout",
     "output_type": "stream",
     "text": [
      "Total number of documents:  38\n"
     ]
    }
   ],
   "source": [
    "from langchain.text_splitter import RecursiveCharacterTextSplitter\n",
    "\n",
    "# split data\n",
    "text_splitter = RecursiveCharacterTextSplitter(chunk_size=1000)\n",
    "docs = text_splitter.split_documents(data)\n",
    "\n",
    "\n",
    "print(\"Total number of documents: \",len(docs))"
   ]
  },
  {
   "cell_type": "code",
   "execution_count": 22,
   "id": "100b7d1a-1209-49d4-99ed-c51bc233a938",
   "metadata": {},
   "outputs": [
    {
     "data": {
      "text/plain": [
       "Document(metadata={'source': 'FEWD Unit-3.pdf', 'page': 3}, page_content='/> \\n    ); \\n  } \\n} \\n \\nexport default FocusExample;  \\nIn this example, the handleFocus method is called when the input field receives focus, a nd the handleBlur \\nmethod is called when the input field loses focus.')"
      ]
     },
     "execution_count": 22,
     "metadata": {},
     "output_type": "execute_result"
    }
   ],
   "source": [
    "docs[7]"
   ]
  },
  {
   "cell_type": "code",
   "execution_count": 23,
   "id": "1073ab7f-2632-4367-8dec-c19449d6ce71",
   "metadata": {},
   "outputs": [
    {
     "data": {
      "text/plain": [
       "[0.05168594419956207,\n",
       " -0.030764883384108543,\n",
       " -0.03062233328819275,\n",
       " -0.02802734449505806,\n",
       " 0.01813092641532421]"
      ]
     },
     "execution_count": 23,
     "metadata": {},
     "output_type": "execute_result"
    }
   ],
   "source": [
    "from langchain_chroma import Chroma\n",
    "from langchain_google_genai import GoogleGenerativeAIEmbeddings\n",
    "\n",
    "from dotenv import load_dotenv\n",
    "load_dotenv() \n",
    "\n",
    "#Get an API key: \n",
    "# Head to https://ai.google.dev/gemini-api/docs/api-key to generate a Google AI API key. Paste in .env file\n",
    "\n",
    "# Embedding models: https://python.langchain.com/v0.1/docs/integrations/text_embedding/\n",
    "\n",
    "embeddings = GoogleGenerativeAIEmbeddings(model=\"models/embedding-001\")\n",
    "vector = embeddings.embed_query(\"hello, world!\")\n",
    "vector[:5]\n",
    "#vector"
   ]
  },
  {
   "cell_type": "code",
   "execution_count": 24,
   "id": "688b6e6a-d8ab-41fb-a665-b72c9c9b4026",
   "metadata": {},
   "outputs": [],
   "source": [
    "vectorstore = Chroma.from_documents(documents=docs, embedding=GoogleGenerativeAIEmbeddings(model=\"models/embedding-001\"))"
   ]
  },
  {
   "cell_type": "code",
   "execution_count": null,
   "id": "1bd0e8d5",
   "metadata": {},
   "outputs": [],
   "source": []
  },
  {
   "cell_type": "code",
   "execution_count": 25,
   "id": "2c674c5c-1b57-42e9-a99d-9e882c75da2d",
   "metadata": {},
   "outputs": [],
   "source": [
    "retriever = vectorstore.as_retriever(search_type=\"similarity\", search_kwargs={\"k\": 10})\n",
    "\n",
    "retrieved_docs = retriever.invoke(\"What is new in yolov9?\")\n"
   ]
  },
  {
   "cell_type": "code",
   "execution_count": 26,
   "id": "04c5c6bb-fd0e-45ec-b315-e3f7656e0329",
   "metadata": {},
   "outputs": [
    {
     "data": {
      "text/plain": [
       "10"
      ]
     },
     "execution_count": 26,
     "metadata": {},
     "output_type": "execute_result"
    }
   ],
   "source": [
    "len(retrieved_docs)"
   ]
  },
  {
   "cell_type": "code",
   "execution_count": 28,
   "id": "8a1c8321-1efd-4a11-9744-0d1a7c6f4e0a",
   "metadata": {},
   "outputs": [
    {
     "name": "stdout",
     "output_type": "stream",
     "text": [
      "target task, it also overcomes the problems encountered by\n",
      "mask modeling. The proposed PGI mechanism can be ap-\n",
      "plied to deep neural networks of various sizes and is more\n",
      "general than the deep supervision mechanism, which is only\n",
      "suitable for very deep neural networks.\n",
      "In this paper, we also designed generalized ELAN\n",
      "(GELAN) based on ELAN [65], the design of GELAN si-\n",
      "multaneously takes into account the number of parameters,\n",
      "computational complexity, accuracy and inference speed.\n",
      "This design allows users to arbitrarily choose appropriate\n",
      "computational blocks for different inference devices. We\n",
      "combined the proposed PGI and GELAN, and then de-\n",
      "signed a new generation of YOLO series object detection\n",
      "system, which we call YOLOv9. We used the MS COCO\n",
      "dataset to conduct experiments, and the experimental results\n",
      "verified that our proposed YOLOv9 achieved the top perfor-\n",
      "mance in all comparisons.\n",
      "We summarize the contributions of this paper as follows:\n"
     ]
    }
   ],
   "source": [
    "print(retrieved_docs[5].page_content)"
   ]
  },
  {
   "cell_type": "code",
   "execution_count": 29,
   "id": "7f991a1f-6ce9-4463-9941-b35014df94f6",
   "metadata": {},
   "outputs": [],
   "source": [
    "from langchain_google_genai import ChatGoogleGenerativeAI\n",
    "\n",
    "llm = ChatGoogleGenerativeAI(model=\"gemini-1.5-pro\",temperature=0.3, max_tokens=500)"
   ]
  },
  {
   "cell_type": "code",
   "execution_count": 30,
   "id": "6ee17439-7bc3-4931-9f57-4ec7e82ce902",
   "metadata": {},
   "outputs": [],
   "source": [
    "from langchain.chains import create_retrieval_chain\n",
    "from langchain.chains.combine_documents import create_stuff_documents_chain\n",
    "from langchain_core.prompts import ChatPromptTemplate\n",
    "\n",
    "system_prompt = (\n",
    "    \"You are an assistant for question-answering tasks. \"\n",
    "    \"Use the following pieces of retrieved context to answer \"\n",
    "    \"the question. If you don't know the answer, say that you \"\n",
    "    \"don't know. Use three sentences maximum and keep the \"\n",
    "    \"answer concise.\"\n",
    "    \"\\n\\n\"\n",
    "    \"{context}\"\n",
    ")\n",
    "\n",
    "prompt = ChatPromptTemplate.from_messages(\n",
    "    [\n",
    "        (\"system\", system_prompt),\n",
    "        (\"human\", \"{input}\"),\n",
    "    ]\n",
    ")"
   ]
  },
  {
   "cell_type": "code",
   "execution_count": 31,
   "id": "266e86e0-746b-4943-9470-fd842633ed85",
   "metadata": {},
   "outputs": [],
   "source": [
    "question_answer_chain = create_stuff_documents_chain(llm, prompt)\n",
    "rag_chain = create_retrieval_chain(retriever, question_answer_chain)"
   ]
  },
  {
   "cell_type": "code",
   "execution_count": 32,
   "id": "9db9500d-4c51-4a10-9b21-f1ef9c8f985e",
   "metadata": {},
   "outputs": [
    {
     "name": "stdout",
     "output_type": "stream",
     "text": [
      "YOLOv9 introduces two new components: **Programmable Gradient Information (PGI)** for enhanced gradient flow and **Generalized ELAN (GELAN)**, a computationally efficient network architecture. These enhancements allow YOLOv9 to achieve state-of-the-art performance on object detection tasks. \n",
      "\n"
     ]
    }
   ],
   "source": [
    "response = rag_chain.invoke({\"input\": \"what is new in YOLOv9?\"})\n",
    "print(response[\"answer\"])"
   ]
  },
  {
   "cell_type": "code",
   "execution_count": 33,
   "id": "7cff65d0-2436-47f8-8572-6979a3378701",
   "metadata": {},
   "outputs": [
    {
     "name": "stdout",
     "output_type": "stream",
     "text": [
      "Auxiliary Supervision is a common technique in deep learning, often used to enhance the training process. It involves adding extra prediction layers (deep supervision) or using relevant metadata to guide the intermediate layers of a model. This helps to speed up convergence and improve the model's robustness. \n",
      "\n"
     ]
    }
   ],
   "source": [
    "response = rag_chain.invoke({\"input\": \"what is Auxiliary Supervision?\"})\n",
    "print(response[\"answer\"])"
   ]
  },
  {
   "cell_type": "code",
   "execution_count": 34,
   "id": "8edf84c8",
   "metadata": {},
   "outputs": [
    {
     "name": "stdout",
     "output_type": "stream",
     "text": [
      "In React, the `onClick` event is used to handle click events on HTML elements like buttons, divs, etc. When a user clicks the element, the function assigned to the `onClick` attribute is executed. This function can then perform any desired action, such as updating the UI, fetching data, or triggering other events. \n",
      "\n"
     ]
    }
   ],
   "source": [
    "response = rag_chain.invoke({\"input\": \"Explain about OnClick event in React?\"})\n",
    "print(response[\"answer\"])"
   ]
  },
  {
   "cell_type": "code",
   "execution_count": 35,
   "id": "4cd0ba02",
   "metadata": {},
   "outputs": [
    {
     "name": "stdout",
     "output_type": "stream",
     "text": [
      "```\n",
      "import React from 'react';\n",
      "\n",
      "class ClickExample extends React.Component {\n",
      "  handleClick() {\n",
      "    alert('Button clicked!');\n",
      "  }\n",
      "\n",
      "  render() {\n",
      "    return (\n",
      "      <button onClick={this.handleClick}>Click me</button>\n",
      "    );\n",
      "  }\n",
      "}\n",
      "\n",
      "export default ClickExample;\n",
      "```\n",
      "\n",
      "This code defines a button that, when clicked, will display an alert message. The `handleClick` function is bound to the button's `onClick` event, ensuring it's triggered upon clicking. \n",
      "\n"
     ]
    }
   ],
   "source": [
    "response = rag_chain.invoke({\"input\": \"Give Sample code on OnClick event Handler in React?\"})\n",
    "print(response[\"answer\"])"
   ]
  },
  {
   "cell_type": "code",
   "execution_count": 37,
   "id": "be216bd3",
   "metadata": {},
   "outputs": [
    {
     "name": "stdout",
     "output_type": "stream",
     "text": [
      "```javascript\n",
      "import React from 'react';\n",
      "\n",
      "class KeyboardExample extends React.Component {\n",
      "  handleKeyPress = (event) => {\n",
      "    console.log('Key pressed:', event.key);\n",
      "  }\n",
      "\n",
      "  render() {\n",
      "    return (\n",
      "      <input\n",
      "        type=\"text\"\n",
      "        onKeyPress={this.handleKeyPress}\n",
      "        placeholder=\"Type something...\"\n",
      "      />\n",
      "    );\n",
      "  }\n",
      "}\n",
      "\n",
      "export default KeyboardExample;\n",
      "```\n",
      "\n",
      "This code defines a component with an input field. The `onKeyPress` event handler is attached to the input, and when a key is pressed, it logs the pressed key to the console. \n",
      "\n"
     ]
    }
   ],
   "source": [
    "response = rag_chain.invoke({\"input\": \"Give Sample code on OnKeyPress in React?\"})\n",
    "print(response[\"answer\"])"
   ]
  },
  {
   "cell_type": "code",
   "execution_count": null,
   "id": "c18220d0",
   "metadata": {},
   "outputs": [],
   "source": []
  }
 ],
 "metadata": {
  "kernelspec": {
   "display_name": "Python 3 (ipykernel)",
   "language": "python",
   "name": "python3"
  },
  "language_info": {
   "codemirror_mode": {
    "name": "ipython",
    "version": 3
   },
   "file_extension": ".py",
   "mimetype": "text/x-python",
   "name": "python",
   "nbconvert_exporter": "python",
   "pygments_lexer": "ipython3",
   "version": "3.10.6"
  }
 },
 "nbformat": 4,
 "nbformat_minor": 5
}
